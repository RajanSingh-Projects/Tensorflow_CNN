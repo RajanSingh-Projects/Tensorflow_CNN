{
 "cells": [
  {
   "cell_type": "code",
   "execution_count": 1,
   "metadata": {
    "collapsed": true
   },
   "outputs": [],
   "source": [
    "import tensorflow as tf\n",
    "import numpy as np\n",
    "import matplotlib.pyplot as plt\n",
    "import math"
   ]
  },
  {
   "cell_type": "code",
   "execution_count": 2,
   "metadata": {
    "collapsed": false
   },
   "outputs": [
    {
     "name": "stdout",
     "output_type": "stream",
     "text": [
      "Extracting data/train-images-idx3-ubyte.gz\n",
      "Extracting data/train-labels-idx1-ubyte.gz\n",
      "Extracting data/t10k-images-idx3-ubyte.gz\n",
      "Extracting data/t10k-labels-idx1-ubyte.gz\n"
     ]
    }
   ],
   "source": [
    "from tensorflow.examples.tutorials.mnist import input_data as mnist_data\n",
    "mnist = mnist = mnist_data.read_data_sets(\"data\", one_hot=True, reshape=False, validation_size=0)\n",
    "tf.set_random_seed(0)"
   ]
  },
  {
   "cell_type": "code",
   "execution_count": 12,
   "metadata": {
    "collapsed": false
   },
   "outputs": [],
   "source": [
    "## Initializing all variables\n",
    "X = tf.placeholder(tf.float32, [None, 28, 28, 1]) # Placeholder for images\n",
    "Y_ = tf.placeholder(tf.float32, [None, 10]) # Placeholder for actual labels\n",
    "lr = tf.placeholder(tf.float32)\n",
    "  ## We've no dropouts\n",
    "## Number of output channels in each convolutional layer\n",
    "K = 4\n",
    "L = 8\n",
    "M = 12\n",
    "\n",
    "### Initilizing weights\n",
    "   ## For convolutional layer\n",
    "W1 = tf.Variable(tf.truncated_normal([5, 5, 1, K], stddev = 0.1))\n",
    "B1 = tf.Variable(tf.ones([K])/10)\n",
    "W2 = tf.Variable(tf.truncated_normal([5, 5, K, L], stddev = 0.1))\n",
    "B2 = tf.Variable(tf.ones([L])/10)\n",
    "W3 = tf.Variable(tf.truncated_normal([5, 5, L, M], stddev = 0.1))\n",
    "B3 = tf.Variable(tf.ones([M])/10)\n",
    "\n",
    "  ##For fully connected layers\n",
    "W4 = tf.Variable(tf.truncated_normal([7*7*M, 200], stddev = 0.1))\n",
    "B4 = tf.Variable(tf.ones([200])/10)\n",
    "W5 = tf.Variable(tf.truncated_normal([200, 10], stddev = 0.1))\n",
    "B5 = tf.Variable(tf.ones([10])/10)\n",
    "\n",
    "## Convolutional model calculation\n",
    "Y1 = tf.nn.relu(tf.nn.conv2d(X, W1, strides = [1, 1, 1, 1], padding= \"SAME\") + B1)\n",
    "Y2 = tf.nn.relu(tf.nn.conv2d(Y1, W2, strides = [1, 2, 2, 1], padding = \"SAME\") + B2)\n",
    "Y3 = tf.nn.relu(tf.nn.conv2d(Y2, W3, strides = [1, 2, 2, 1], padding = \"SAME\") + B3)\n",
    "YF = tf.reshape(Y3, [-1, 7*7*M])\n",
    "Y4 = tf.nn.relu(tf.matmul(YF, W4) + B4)\n",
    "Ylogits = tf.matmul(Y4, W5) + B5\n",
    "Y = tf.nn.softmax(Ylogits)\n",
    "\n",
    "  ## Parameters for learning rate decay\n",
    "max_learning_rate = 0.003\n",
    "min_learning_rate = 0.0001\n",
    "decay_speed = 2000.0\n",
    "\n",
    "# accuracy calculation\n",
    "correct_prediction = tf.equal(tf.argmax(Y, 1), tf.argmax(Y_, 1))\n",
    "accuracy = tf.reduce_mean(tf.cast(correct_prediction, tf.float32))\n",
    "\n",
    "## Optimizer function\n",
    "cross_entropy = tf.nn.softmax_cross_entropy_with_logits(logits= Ylogits, labels = Y_)\n",
    "cross_entropy = tf.reduce_mean(cross_entropy) * 100 ##Normalization for batch size = 100\n",
    "\n",
    "## Training step\n",
    "train_step = tf.train.AdamOptimizer(lr).minimize(cross_entropy)\n"
   ]
  },
  {
   "cell_type": "code",
   "execution_count": 13,
   "metadata": {
    "collapsed": false,
    "scrolled": false
   },
   "outputs": [
    {
     "name": "stdout",
     "output_type": "stream",
     "text": [
      "0.16 225.259\n",
      "0.99 5.64314\n",
      "1.0 0.226078\n",
      "1.0 0.124225\n",
      "1.0 0.0130643\n",
      "0.9891 5.90268\n"
     ]
    }
   ],
   "source": [
    "## Training phase\n",
    "init = tf.global_variables_initializer()\n",
    "sess = tf.Session()\n",
    "sess.run(init) ## To initilize all variables\n",
    "\n",
    "for i in range(10000):\n",
    "    batch_X, batch_Y = mnist.train.next_batch(100)\n",
    "    Learning_rate = min_learning_rate + (max_learning_rate - min_learning_rate) * math.exp(-i/decay_speed)\n",
    "    train_data = {X: batch_X, Y_: batch_Y, lr: Learning_rate}\n",
    "    sess.run(train_step, feed_dict = train_data)\n",
    "    \n",
    "    ## Accuracu for training set, per 2000 iterations\n",
    "    if(i%2000 == 0):\n",
    "        a, c = sess.run([accuracy, cross_entropy], {X: batch_X, Y_: batch_Y})\n",
    "        print a, c\n",
    "    \n",
    "    \n",
    "## Accuracy on test set\n",
    "test_data = {X: mnist.test.images, Y_: mnist.test.labels}\n",
    "a, c = sess.run([accuracy, cross_entropy], test_data)\n",
    "print a, c"
   ]
  },
  {
   "cell_type": "code",
   "execution_count": 3,
   "metadata": {
    "collapsed": false
   },
   "outputs": [],
   "source": [
    "#### bigger convolutional network(more degrees of freedom) along wtih dropout\n",
    "  #### in fully connected layer\n",
    "## Initializing all variables\n",
    "X = tf.placeholder(tf.float32, [None, 28, 28, 1]) # Placeholder for images\n",
    "Y_ = tf.placeholder(tf.float32, [None, 10]) # Placeholder for actual labels\n",
    "lr = tf.placeholder(tf.float32)\n",
    "pkeep = tf.placeholder(tf.float32) ## droput\n",
    "## Number of output channels in each convolutional layer\n",
    "K = 6\n",
    "L = 12\n",
    "M = 24\n",
    "\n",
    "### Initilizing weights\n",
    "   ## For convolutional layer\n",
    "W1 = tf.Variable(tf.truncated_normal([6, 6, 1, K], stddev = 0.1))\n",
    "B1 = tf.Variable(tf.ones([K])/10)\n",
    "W2 = tf.Variable(tf.truncated_normal([5, 5, K, L], stddev = 0.1))\n",
    "B2 = tf.Variable(tf.ones([L])/10)\n",
    "W3 = tf.Variable(tf.truncated_normal([4, 4, L, M], stddev = 0.1))\n",
    "B3 = tf.Variable(tf.ones([M])/10)\n",
    "\n",
    "  ##For fully connected layers\n",
    "W4 = tf.Variable(tf.truncated_normal([7*7*M, 200], stddev = 0.1))\n",
    "B4 = tf.Variable(tf.ones([200])/10)\n",
    "W5 = tf.Variable(tf.truncated_normal([200, 10], stddev = 0.1))\n",
    "B5 = tf.Variable(tf.ones([10])/10)\n",
    "\n",
    "## Convolutional model calculation\n",
    "Y1 = tf.nn.relu(tf.nn.conv2d(X, W1, strides = [1, 1, 1, 1], padding= \"SAME\") + B1)\n",
    "Y2 = tf.nn.relu(tf.nn.conv2d(Y1, W2, strides = [1, 2, 2, 1], padding = \"SAME\") + B2)\n",
    "Y3 = tf.nn.relu(tf.nn.conv2d(Y2, W3, strides = [1, 2, 2, 1], padding = \"SAME\") + B3)\n",
    "YF = tf.reshape(Y3, [-1, 7*7*M])\n",
    "Y4 = tf.nn.relu(tf.matmul(YF, W4) + B4)\n",
    "Y4d = tf.nn.dropout(Y4, pkeep)\n",
    "Ylogits = tf.matmul(Y4d, W5) + B5\n",
    "Y = tf.nn.softmax(Ylogits)\n",
    "\n",
    "  ## Parameters for learning rate decay\n",
    "max_learning_rate = 0.003\n",
    "min_learning_rate = 0.0001\n",
    "decay_speed = 2000.0\n",
    "\n",
    "# accuracy calculation\n",
    "correct_prediction = tf.equal(tf.argmax(Y, 1), tf.argmax(Y_, 1))\n",
    "accuracy = tf.reduce_mean(tf.cast(correct_prediction, tf.float32))\n",
    "\n",
    "## Optimizer function\n",
    "cross_entropy = tf.nn.softmax_cross_entropy_with_logits(logits= Ylogits, labels = Y_)\n",
    "cross_entropy = tf.reduce_mean(cross_entropy) * 100 ##Normalization for batch size = 100\n",
    "\n",
    "## Training step\n",
    "train_step = tf.train.AdamOptimizer(lr).minimize(cross_entropy)\n"
   ]
  },
  {
   "cell_type": "code",
   "execution_count": 4,
   "metadata": {
    "collapsed": false
   },
   "outputs": [
    {
     "name": "stdout",
     "output_type": "stream",
     "text": [
      "0.12 240.916\n",
      "1.0 0.809248\n",
      "1.0 0.244806\n",
      "1.0 0.31861\n",
      "1.0 0.0279735\n",
      "0.9919 3.21379\n"
     ]
    }
   ],
   "source": [
    "## Training phase\n",
    "init = tf.global_variables_initializer()\n",
    "sess = tf.Session()\n",
    "sess.run(init) ## To initilize all variables\n",
    "\n",
    "for i in range(10000):\n",
    "    batch_X, batch_Y = mnist.train.next_batch(100)\n",
    "    Learning_rate = min_learning_rate + (max_learning_rate - min_learning_rate) * math.exp(-i/decay_speed)\n",
    "    train_data = {X: batch_X, Y_: batch_Y, pkeep: 0.75, lr: Learning_rate }\n",
    "    sess.run(train_step, feed_dict = train_data)\n",
    "    \n",
    "    ## Accuracu for training set, per 2000 iterations\n",
    "    if(i%2000 == 0):\n",
    "        a, c = sess.run([accuracy, cross_entropy], {X: batch_X, Y_: batch_Y, pkeep: 1.0})\n",
    "        print a, c\n",
    "    \n",
    "    \n",
    "## Accuracy on test set\n",
    "test_data = {X: mnist.test.images, Y_: mnist.test.labels, pkeep: 1.0}\n",
    "a, c = sess.run([accuracy, cross_entropy], test_data)\n",
    "print a, c"
   ]
  }
 ],
 "metadata": {
  "kernelspec": {
   "display_name": "Python 2",
   "language": "python",
   "name": "python2"
  },
  "language_info": {
   "codemirror_mode": {
    "name": "ipython",
    "version": 2
   },
   "file_extension": ".py",
   "mimetype": "text/x-python",
   "name": "python",
   "nbconvert_exporter": "python",
   "pygments_lexer": "ipython2",
   "version": "2.7.13"
  }
 },
 "nbformat": 4,
 "nbformat_minor": 2
}
